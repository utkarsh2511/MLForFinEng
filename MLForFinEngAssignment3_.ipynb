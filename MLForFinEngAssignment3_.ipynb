{
  "cells": [
    {
      "cell_type": "markdown",
      "metadata": {
        "id": "yGyCq7vwnA79"
      },
      "source": [
        "1. Deep Learning for Classification (Neural Networks)"
      ]
    },
    {
      "cell_type": "markdown",
      "metadata": {
        "id": "0ANPU6fanFRM"
      },
      "source": [
        "**Section 1**: Introduction (5 points)"
      ]
    },
    {
      "cell_type": "markdown",
      "metadata": {
        "id": "oTW5ogbJnIz5"
      },
      "source": [
        "**Problem Statement:**: Credit Card Fraud Detection (Classification: 0 - Not Fraud, 1: Fraud) using Deep Learning"
      ]
    },
    {
      "cell_type": "markdown",
      "metadata": {
        "id": "ax1Lt-V4nRXN"
      },
      "source": [
        "**Data Description:** : We use the following data: https://www.kaggle.com/code/codeaesthete/credit-card-fraud-detection-deep-neural-networks/input for the analysis and fraud detection. The dataset description as given by kaggle -\n",
        "\n",
        "The datasets contains transactions made by credit cards in September 2013 by european cardholders. This dataset presents transactions that occurred in two days, where we have 492 frauds out of 284,807 transactions. The dataset is highly unbalanced, the positive class (frauds) account for 0.172% of all transactions.\n",
        "\n",
        "It contains only numerical input variables which are the result of a PCA transformation. Unfortunately, due to confidentiality issues, we cannot provide the original features and more background information about the data. Features V1, V2, … V28 are the principal components obtained with PCA, the only features which have not been transformed with PCA are 'Time' and 'Amount'. Feature 'Time' contains the seconds elapsed between each transaction and the first transaction in the dataset. The feature 'Amount' is the transaction Amount, this feature can be used for example-dependant cost-senstive learning.\n",
        "\n",
        "Feature 'Class' is the response variable and it takes value 1 in case of fraud and 0 otherwise"
      ]
    },
    {
      "cell_type": "markdown",
      "metadata": {
        "id": "4JasL95on5zw"
      },
      "source": [
        "We are referring for the code to: https://www.kaggle.com/code/codeaesthete/credit-card-fraud-detection-deep-neural-networks/notebook"
      ]
    },
    {
      "cell_type": "markdown",
      "metadata": {
        "id": "h058Ga8yoF5k"
      },
      "source": [
        "**Section 2**: **Implementation - Code and Notes**"
      ]
    },
    {
      "cell_type": "code",
      "execution_count": 2,
      "metadata": {
        "id": "qWInyTe3nBi_"
      },
      "outputs": [],
      "source": [
        "# importing necessary libraries\n",
        "\n",
        "import pandas as pd\n",
        "import numpy as np\n",
        "import keras\n",
        "\n",
        "pd.set_option('display.max_rows', None)\n",
        "pd.set_option('display.max_columns', None)\n",
        "\n"
      ]
    },
    {
      "cell_type": "code",
      "execution_count": 3,
      "metadata": {
        "id": "Z6hxFTncoTqy"
      },
      "outputs": [],
      "source": [
        "df = pd.read_csv('/content/creditcard.csv')"
      ]
    },
    {
      "cell_type": "code",
      "execution_count": 4,
      "metadata": {
        "colab": {
          "base_uri": "https://localhost:8080/",
          "height": 226
        },
        "id": "uXmducUQp_Jf",
        "outputId": "a7e1c5d1-d6e7-464e-ac9c-6c2914e9b916"
      },
      "outputs": [
        {
          "output_type": "execute_result",
          "data": {
            "text/plain": [
              "   Time        V1        V2        V3        V4        V5        V6        V7  \\\n",
              "0   0.0 -1.359807 -0.072781  2.536347  1.378155 -0.338321  0.462388  0.239599   \n",
              "1   0.0  1.191857  0.266151  0.166480  0.448154  0.060018 -0.082361 -0.078803   \n",
              "2   1.0 -1.358354 -1.340163  1.773209  0.379780 -0.503198  1.800499  0.791461   \n",
              "3   1.0 -0.966272 -0.185226  1.792993 -0.863291 -0.010309  1.247203  0.237609   \n",
              "4   2.0 -1.158233  0.877737  1.548718  0.403034 -0.407193  0.095921  0.592941   \n",
              "\n",
              "         V8        V9       V10       V11       V12       V13       V14  \\\n",
              "0  0.098698  0.363787  0.090794 -0.551600 -0.617801 -0.991390 -0.311169   \n",
              "1  0.085102 -0.255425 -0.166974  1.612727  1.065235  0.489095 -0.143772   \n",
              "2  0.247676 -1.514654  0.207643  0.624501  0.066084  0.717293 -0.165946   \n",
              "3  0.377436 -1.387024 -0.054952 -0.226487  0.178228  0.507757 -0.287924   \n",
              "4 -0.270533  0.817739  0.753074 -0.822843  0.538196  1.345852 -1.119670   \n",
              "\n",
              "        V15       V16       V17       V18       V19       V20       V21  \\\n",
              "0  1.468177 -0.470401  0.207971  0.025791  0.403993  0.251412 -0.018307   \n",
              "1  0.635558  0.463917 -0.114805 -0.183361 -0.145783 -0.069083 -0.225775   \n",
              "2  2.345865 -2.890083  1.109969 -0.121359 -2.261857  0.524980  0.247998   \n",
              "3 -0.631418 -1.059647 -0.684093  1.965775 -1.232622 -0.208038 -0.108300   \n",
              "4  0.175121 -0.451449 -0.237033 -0.038195  0.803487  0.408542 -0.009431   \n",
              "\n",
              "        V22       V23       V24       V25       V26       V27       V28  \\\n",
              "0  0.277838 -0.110474  0.066928  0.128539 -0.189115  0.133558 -0.021053   \n",
              "1 -0.638672  0.101288 -0.339846  0.167170  0.125895 -0.008983  0.014724   \n",
              "2  0.771679  0.909412 -0.689281 -0.327642 -0.139097 -0.055353 -0.059752   \n",
              "3  0.005274 -0.190321 -1.175575  0.647376 -0.221929  0.062723  0.061458   \n",
              "4  0.798278 -0.137458  0.141267 -0.206010  0.502292  0.219422  0.215153   \n",
              "\n",
              "   Amount  Class  \n",
              "0  149.62      0  \n",
              "1    2.69      0  \n",
              "2  378.66      0  \n",
              "3  123.50      0  \n",
              "4   69.99      0  "
            ],
            "text/html": [
              "\n",
              "  <div id=\"df-c91ff590-d752-4ac5-97a6-e874d607febc\" class=\"colab-df-container\">\n",
              "    <div>\n",
              "<style scoped>\n",
              "    .dataframe tbody tr th:only-of-type {\n",
              "        vertical-align: middle;\n",
              "    }\n",
              "\n",
              "    .dataframe tbody tr th {\n",
              "        vertical-align: top;\n",
              "    }\n",
              "\n",
              "    .dataframe thead th {\n",
              "        text-align: right;\n",
              "    }\n",
              "</style>\n",
              "<table border=\"1\" class=\"dataframe\">\n",
              "  <thead>\n",
              "    <tr style=\"text-align: right;\">\n",
              "      <th></th>\n",
              "      <th>Time</th>\n",
              "      <th>V1</th>\n",
              "      <th>V2</th>\n",
              "      <th>V3</th>\n",
              "      <th>V4</th>\n",
              "      <th>V5</th>\n",
              "      <th>V6</th>\n",
              "      <th>V7</th>\n",
              "      <th>V8</th>\n",
              "      <th>V9</th>\n",
              "      <th>V10</th>\n",
              "      <th>V11</th>\n",
              "      <th>V12</th>\n",
              "      <th>V13</th>\n",
              "      <th>V14</th>\n",
              "      <th>V15</th>\n",
              "      <th>V16</th>\n",
              "      <th>V17</th>\n",
              "      <th>V18</th>\n",
              "      <th>V19</th>\n",
              "      <th>V20</th>\n",
              "      <th>V21</th>\n",
              "      <th>V22</th>\n",
              "      <th>V23</th>\n",
              "      <th>V24</th>\n",
              "      <th>V25</th>\n",
              "      <th>V26</th>\n",
              "      <th>V27</th>\n",
              "      <th>V28</th>\n",
              "      <th>Amount</th>\n",
              "      <th>Class</th>\n",
              "    </tr>\n",
              "  </thead>\n",
              "  <tbody>\n",
              "    <tr>\n",
              "      <th>0</th>\n",
              "      <td>0.0</td>\n",
              "      <td>-1.359807</td>\n",
              "      <td>-0.072781</td>\n",
              "      <td>2.536347</td>\n",
              "      <td>1.378155</td>\n",
              "      <td>-0.338321</td>\n",
              "      <td>0.462388</td>\n",
              "      <td>0.239599</td>\n",
              "      <td>0.098698</td>\n",
              "      <td>0.363787</td>\n",
              "      <td>0.090794</td>\n",
              "      <td>-0.551600</td>\n",
              "      <td>-0.617801</td>\n",
              "      <td>-0.991390</td>\n",
              "      <td>-0.311169</td>\n",
              "      <td>1.468177</td>\n",
              "      <td>-0.470401</td>\n",
              "      <td>0.207971</td>\n",
              "      <td>0.025791</td>\n",
              "      <td>0.403993</td>\n",
              "      <td>0.251412</td>\n",
              "      <td>-0.018307</td>\n",
              "      <td>0.277838</td>\n",
              "      <td>-0.110474</td>\n",
              "      <td>0.066928</td>\n",
              "      <td>0.128539</td>\n",
              "      <td>-0.189115</td>\n",
              "      <td>0.133558</td>\n",
              "      <td>-0.021053</td>\n",
              "      <td>149.62</td>\n",
              "      <td>0</td>\n",
              "    </tr>\n",
              "    <tr>\n",
              "      <th>1</th>\n",
              "      <td>0.0</td>\n",
              "      <td>1.191857</td>\n",
              "      <td>0.266151</td>\n",
              "      <td>0.166480</td>\n",
              "      <td>0.448154</td>\n",
              "      <td>0.060018</td>\n",
              "      <td>-0.082361</td>\n",
              "      <td>-0.078803</td>\n",
              "      <td>0.085102</td>\n",
              "      <td>-0.255425</td>\n",
              "      <td>-0.166974</td>\n",
              "      <td>1.612727</td>\n",
              "      <td>1.065235</td>\n",
              "      <td>0.489095</td>\n",
              "      <td>-0.143772</td>\n",
              "      <td>0.635558</td>\n",
              "      <td>0.463917</td>\n",
              "      <td>-0.114805</td>\n",
              "      <td>-0.183361</td>\n",
              "      <td>-0.145783</td>\n",
              "      <td>-0.069083</td>\n",
              "      <td>-0.225775</td>\n",
              "      <td>-0.638672</td>\n",
              "      <td>0.101288</td>\n",
              "      <td>-0.339846</td>\n",
              "      <td>0.167170</td>\n",
              "      <td>0.125895</td>\n",
              "      <td>-0.008983</td>\n",
              "      <td>0.014724</td>\n",
              "      <td>2.69</td>\n",
              "      <td>0</td>\n",
              "    </tr>\n",
              "    <tr>\n",
              "      <th>2</th>\n",
              "      <td>1.0</td>\n",
              "      <td>-1.358354</td>\n",
              "      <td>-1.340163</td>\n",
              "      <td>1.773209</td>\n",
              "      <td>0.379780</td>\n",
              "      <td>-0.503198</td>\n",
              "      <td>1.800499</td>\n",
              "      <td>0.791461</td>\n",
              "      <td>0.247676</td>\n",
              "      <td>-1.514654</td>\n",
              "      <td>0.207643</td>\n",
              "      <td>0.624501</td>\n",
              "      <td>0.066084</td>\n",
              "      <td>0.717293</td>\n",
              "      <td>-0.165946</td>\n",
              "      <td>2.345865</td>\n",
              "      <td>-2.890083</td>\n",
              "      <td>1.109969</td>\n",
              "      <td>-0.121359</td>\n",
              "      <td>-2.261857</td>\n",
              "      <td>0.524980</td>\n",
              "      <td>0.247998</td>\n",
              "      <td>0.771679</td>\n",
              "      <td>0.909412</td>\n",
              "      <td>-0.689281</td>\n",
              "      <td>-0.327642</td>\n",
              "      <td>-0.139097</td>\n",
              "      <td>-0.055353</td>\n",
              "      <td>-0.059752</td>\n",
              "      <td>378.66</td>\n",
              "      <td>0</td>\n",
              "    </tr>\n",
              "    <tr>\n",
              "      <th>3</th>\n",
              "      <td>1.0</td>\n",
              "      <td>-0.966272</td>\n",
              "      <td>-0.185226</td>\n",
              "      <td>1.792993</td>\n",
              "      <td>-0.863291</td>\n",
              "      <td>-0.010309</td>\n",
              "      <td>1.247203</td>\n",
              "      <td>0.237609</td>\n",
              "      <td>0.377436</td>\n",
              "      <td>-1.387024</td>\n",
              "      <td>-0.054952</td>\n",
              "      <td>-0.226487</td>\n",
              "      <td>0.178228</td>\n",
              "      <td>0.507757</td>\n",
              "      <td>-0.287924</td>\n",
              "      <td>-0.631418</td>\n",
              "      <td>-1.059647</td>\n",
              "      <td>-0.684093</td>\n",
              "      <td>1.965775</td>\n",
              "      <td>-1.232622</td>\n",
              "      <td>-0.208038</td>\n",
              "      <td>-0.108300</td>\n",
              "      <td>0.005274</td>\n",
              "      <td>-0.190321</td>\n",
              "      <td>-1.175575</td>\n",
              "      <td>0.647376</td>\n",
              "      <td>-0.221929</td>\n",
              "      <td>0.062723</td>\n",
              "      <td>0.061458</td>\n",
              "      <td>123.50</td>\n",
              "      <td>0</td>\n",
              "    </tr>\n",
              "    <tr>\n",
              "      <th>4</th>\n",
              "      <td>2.0</td>\n",
              "      <td>-1.158233</td>\n",
              "      <td>0.877737</td>\n",
              "      <td>1.548718</td>\n",
              "      <td>0.403034</td>\n",
              "      <td>-0.407193</td>\n",
              "      <td>0.095921</td>\n",
              "      <td>0.592941</td>\n",
              "      <td>-0.270533</td>\n",
              "      <td>0.817739</td>\n",
              "      <td>0.753074</td>\n",
              "      <td>-0.822843</td>\n",
              "      <td>0.538196</td>\n",
              "      <td>1.345852</td>\n",
              "      <td>-1.119670</td>\n",
              "      <td>0.175121</td>\n",
              "      <td>-0.451449</td>\n",
              "      <td>-0.237033</td>\n",
              "      <td>-0.038195</td>\n",
              "      <td>0.803487</td>\n",
              "      <td>0.408542</td>\n",
              "      <td>-0.009431</td>\n",
              "      <td>0.798278</td>\n",
              "      <td>-0.137458</td>\n",
              "      <td>0.141267</td>\n",
              "      <td>-0.206010</td>\n",
              "      <td>0.502292</td>\n",
              "      <td>0.219422</td>\n",
              "      <td>0.215153</td>\n",
              "      <td>69.99</td>\n",
              "      <td>0</td>\n",
              "    </tr>\n",
              "  </tbody>\n",
              "</table>\n",
              "</div>\n",
              "    <div class=\"colab-df-buttons\">\n",
              "\n",
              "  <div class=\"colab-df-container\">\n",
              "    <button class=\"colab-df-convert\" onclick=\"convertToInteractive('df-c91ff590-d752-4ac5-97a6-e874d607febc')\"\n",
              "            title=\"Convert this dataframe to an interactive table.\"\n",
              "            style=\"display:none;\">\n",
              "\n",
              "  <svg xmlns=\"http://www.w3.org/2000/svg\" height=\"24px\" viewBox=\"0 -960 960 960\">\n",
              "    <path d=\"M120-120v-720h720v720H120Zm60-500h600v-160H180v160Zm220 220h160v-160H400v160Zm0 220h160v-160H400v160ZM180-400h160v-160H180v160Zm440 0h160v-160H620v160ZM180-180h160v-160H180v160Zm440 0h160v-160H620v160Z\"/>\n",
              "  </svg>\n",
              "    </button>\n",
              "\n",
              "  <style>\n",
              "    .colab-df-container {\n",
              "      display:flex;\n",
              "      gap: 12px;\n",
              "    }\n",
              "\n",
              "    .colab-df-convert {\n",
              "      background-color: #E8F0FE;\n",
              "      border: none;\n",
              "      border-radius: 50%;\n",
              "      cursor: pointer;\n",
              "      display: none;\n",
              "      fill: #1967D2;\n",
              "      height: 32px;\n",
              "      padding: 0 0 0 0;\n",
              "      width: 32px;\n",
              "    }\n",
              "\n",
              "    .colab-df-convert:hover {\n",
              "      background-color: #E2EBFA;\n",
              "      box-shadow: 0px 1px 2px rgba(60, 64, 67, 0.3), 0px 1px 3px 1px rgba(60, 64, 67, 0.15);\n",
              "      fill: #174EA6;\n",
              "    }\n",
              "\n",
              "    .colab-df-buttons div {\n",
              "      margin-bottom: 4px;\n",
              "    }\n",
              "\n",
              "    [theme=dark] .colab-df-convert {\n",
              "      background-color: #3B4455;\n",
              "      fill: #D2E3FC;\n",
              "    }\n",
              "\n",
              "    [theme=dark] .colab-df-convert:hover {\n",
              "      background-color: #434B5C;\n",
              "      box-shadow: 0px 1px 3px 1px rgba(0, 0, 0, 0.15);\n",
              "      filter: drop-shadow(0px 1px 2px rgba(0, 0, 0, 0.3));\n",
              "      fill: #FFFFFF;\n",
              "    }\n",
              "  </style>\n",
              "\n",
              "    <script>\n",
              "      const buttonEl =\n",
              "        document.querySelector('#df-c91ff590-d752-4ac5-97a6-e874d607febc button.colab-df-convert');\n",
              "      buttonEl.style.display =\n",
              "        google.colab.kernel.accessAllowed ? 'block' : 'none';\n",
              "\n",
              "      async function convertToInteractive(key) {\n",
              "        const element = document.querySelector('#df-c91ff590-d752-4ac5-97a6-e874d607febc');\n",
              "        const dataTable =\n",
              "          await google.colab.kernel.invokeFunction('convertToInteractive',\n",
              "                                                    [key], {});\n",
              "        if (!dataTable) return;\n",
              "\n",
              "        const docLinkHtml = 'Like what you see? Visit the ' +\n",
              "          '<a target=\"_blank\" href=https://colab.research.google.com/notebooks/data_table.ipynb>data table notebook</a>'\n",
              "          + ' to learn more about interactive tables.';\n",
              "        element.innerHTML = '';\n",
              "        dataTable['output_type'] = 'display_data';\n",
              "        await google.colab.output.renderOutput(dataTable, element);\n",
              "        const docLink = document.createElement('div');\n",
              "        docLink.innerHTML = docLinkHtml;\n",
              "        element.appendChild(docLink);\n",
              "      }\n",
              "    </script>\n",
              "  </div>\n",
              "\n",
              "\n",
              "<div id=\"df-b01dc555-214d-44d8-993d-9bb0ef83d5f0\">\n",
              "  <button class=\"colab-df-quickchart\" onclick=\"quickchart('df-b01dc555-214d-44d8-993d-9bb0ef83d5f0')\"\n",
              "            title=\"Suggest charts\"\n",
              "            style=\"display:none;\">\n",
              "\n",
              "<svg xmlns=\"http://www.w3.org/2000/svg\" height=\"24px\"viewBox=\"0 0 24 24\"\n",
              "     width=\"24px\">\n",
              "    <g>\n",
              "        <path d=\"M19 3H5c-1.1 0-2 .9-2 2v14c0 1.1.9 2 2 2h14c1.1 0 2-.9 2-2V5c0-1.1-.9-2-2-2zM9 17H7v-7h2v7zm4 0h-2V7h2v10zm4 0h-2v-4h2v4z\"/>\n",
              "    </g>\n",
              "</svg>\n",
              "  </button>\n",
              "\n",
              "<style>\n",
              "  .colab-df-quickchart {\n",
              "      --bg-color: #E8F0FE;\n",
              "      --fill-color: #1967D2;\n",
              "      --hover-bg-color: #E2EBFA;\n",
              "      --hover-fill-color: #174EA6;\n",
              "      --disabled-fill-color: #AAA;\n",
              "      --disabled-bg-color: #DDD;\n",
              "  }\n",
              "\n",
              "  [theme=dark] .colab-df-quickchart {\n",
              "      --bg-color: #3B4455;\n",
              "      --fill-color: #D2E3FC;\n",
              "      --hover-bg-color: #434B5C;\n",
              "      --hover-fill-color: #FFFFFF;\n",
              "      --disabled-bg-color: #3B4455;\n",
              "      --disabled-fill-color: #666;\n",
              "  }\n",
              "\n",
              "  .colab-df-quickchart {\n",
              "    background-color: var(--bg-color);\n",
              "    border: none;\n",
              "    border-radius: 50%;\n",
              "    cursor: pointer;\n",
              "    display: none;\n",
              "    fill: var(--fill-color);\n",
              "    height: 32px;\n",
              "    padding: 0;\n",
              "    width: 32px;\n",
              "  }\n",
              "\n",
              "  .colab-df-quickchart:hover {\n",
              "    background-color: var(--hover-bg-color);\n",
              "    box-shadow: 0 1px 2px rgba(60, 64, 67, 0.3), 0 1px 3px 1px rgba(60, 64, 67, 0.15);\n",
              "    fill: var(--button-hover-fill-color);\n",
              "  }\n",
              "\n",
              "  .colab-df-quickchart-complete:disabled,\n",
              "  .colab-df-quickchart-complete:disabled:hover {\n",
              "    background-color: var(--disabled-bg-color);\n",
              "    fill: var(--disabled-fill-color);\n",
              "    box-shadow: none;\n",
              "  }\n",
              "\n",
              "  .colab-df-spinner {\n",
              "    border: 2px solid var(--fill-color);\n",
              "    border-color: transparent;\n",
              "    border-bottom-color: var(--fill-color);\n",
              "    animation:\n",
              "      spin 1s steps(1) infinite;\n",
              "  }\n",
              "\n",
              "  @keyframes spin {\n",
              "    0% {\n",
              "      border-color: transparent;\n",
              "      border-bottom-color: var(--fill-color);\n",
              "      border-left-color: var(--fill-color);\n",
              "    }\n",
              "    20% {\n",
              "      border-color: transparent;\n",
              "      border-left-color: var(--fill-color);\n",
              "      border-top-color: var(--fill-color);\n",
              "    }\n",
              "    30% {\n",
              "      border-color: transparent;\n",
              "      border-left-color: var(--fill-color);\n",
              "      border-top-color: var(--fill-color);\n",
              "      border-right-color: var(--fill-color);\n",
              "    }\n",
              "    40% {\n",
              "      border-color: transparent;\n",
              "      border-right-color: var(--fill-color);\n",
              "      border-top-color: var(--fill-color);\n",
              "    }\n",
              "    60% {\n",
              "      border-color: transparent;\n",
              "      border-right-color: var(--fill-color);\n",
              "    }\n",
              "    80% {\n",
              "      border-color: transparent;\n",
              "      border-right-color: var(--fill-color);\n",
              "      border-bottom-color: var(--fill-color);\n",
              "    }\n",
              "    90% {\n",
              "      border-color: transparent;\n",
              "      border-bottom-color: var(--fill-color);\n",
              "    }\n",
              "  }\n",
              "</style>\n",
              "\n",
              "  <script>\n",
              "    async function quickchart(key) {\n",
              "      const quickchartButtonEl =\n",
              "        document.querySelector('#' + key + ' button');\n",
              "      quickchartButtonEl.disabled = true;  // To prevent multiple clicks.\n",
              "      quickchartButtonEl.classList.add('colab-df-spinner');\n",
              "      try {\n",
              "        const charts = await google.colab.kernel.invokeFunction(\n",
              "            'suggestCharts', [key], {});\n",
              "      } catch (error) {\n",
              "        console.error('Error during call to suggestCharts:', error);\n",
              "      }\n",
              "      quickchartButtonEl.classList.remove('colab-df-spinner');\n",
              "      quickchartButtonEl.classList.add('colab-df-quickchart-complete');\n",
              "    }\n",
              "    (() => {\n",
              "      let quickchartButtonEl =\n",
              "        document.querySelector('#df-b01dc555-214d-44d8-993d-9bb0ef83d5f0 button');\n",
              "      quickchartButtonEl.style.display =\n",
              "        google.colab.kernel.accessAllowed ? 'block' : 'none';\n",
              "    })();\n",
              "  </script>\n",
              "</div>\n",
              "    </div>\n",
              "  </div>\n"
            ]
          },
          "metadata": {},
          "execution_count": 4
        }
      ],
      "source": [
        "df.head()"
      ]
    },
    {
      "cell_type": "code",
      "execution_count": 5,
      "metadata": {
        "colab": {
          "base_uri": "https://localhost:8080/"
        },
        "id": "_gCRhzpRy7hT",
        "outputId": "e5c18b52-7d13-4263-a91b-0851a7a938a8"
      },
      "outputs": [
        {
          "output_type": "execute_result",
          "data": {
            "text/plain": [
              "(284807, 31)"
            ]
          },
          "metadata": {},
          "execution_count": 5
        }
      ],
      "source": [
        "df.shape"
      ]
    },
    {
      "cell_type": "markdown",
      "metadata": {
        "id": "xK3NpA1ozru6"
      },
      "source": [
        "Removing missing values\n",
        "\n"
      ]
    },
    {
      "cell_type": "code",
      "execution_count": 6,
      "metadata": {
        "id": "oNAAQ2w4z-ha"
      },
      "outputs": [],
      "source": [
        "df = df.dropna()"
      ]
    },
    {
      "cell_type": "code",
      "execution_count": 7,
      "metadata": {
        "colab": {
          "base_uri": "https://localhost:8080/"
        },
        "id": "C_7dD_GH0BkX",
        "outputId": "2056770e-1f50-401c-e186-e2dd506490f7"
      },
      "outputs": [
        {
          "output_type": "execute_result",
          "data": {
            "text/plain": [
              "Time      0\n",
              "V1        0\n",
              "V2        0\n",
              "V3        0\n",
              "V4        0\n",
              "V5        0\n",
              "V6        0\n",
              "V7        0\n",
              "V8        0\n",
              "V9        0\n",
              "V10       0\n",
              "V11       0\n",
              "V12       0\n",
              "V13       0\n",
              "V14       0\n",
              "V15       0\n",
              "V16       0\n",
              "V17       0\n",
              "V18       0\n",
              "V19       0\n",
              "V20       0\n",
              "V21       0\n",
              "V22       0\n",
              "V23       0\n",
              "V24       0\n",
              "V25       0\n",
              "V26       0\n",
              "V27       0\n",
              "V28       0\n",
              "Amount    0\n",
              "Class     0\n",
              "dtype: int64"
            ]
          },
          "metadata": {},
          "execution_count": 7
        }
      ],
      "source": [
        "df.isnull().sum()"
      ]
    },
    {
      "cell_type": "markdown",
      "metadata": {
        "id": "4mo7uw7ez5AQ"
      },
      "source": [
        "Splitting the Data into independent variables and target"
      ]
    },
    {
      "cell_type": "code",
      "execution_count": 8,
      "metadata": {
        "colab": {
          "base_uri": "https://localhost:8080/"
        },
        "id": "0SY7P83bqLXh",
        "outputId": "312d0791-b47b-4b15-f868-703e73c1e2bb"
      },
      "outputs": [
        {
          "output_type": "stream",
          "name": "stdout",
          "text": [
            "(284807, 30)\n",
            "(284807,)\n"
          ]
        }
      ],
      "source": [
        "data = df.iloc[:, :-1]\n",
        "targets = df.iloc[:,-1]\n",
        "\n",
        "print(data.shape)\n",
        "print(targets.shape)"
      ]
    },
    {
      "cell_type": "markdown",
      "metadata": {
        "id": "UDJSpbiHqioC"
      },
      "source": [
        "Getting train, test split"
      ]
    },
    {
      "cell_type": "code",
      "execution_count": 9,
      "metadata": {
        "id": "Sm5VzWGIqQ2h"
      },
      "outputs": [],
      "source": [
        "from sklearn.model_selection import train_test_split\n",
        "\n",
        "train_data, test_data, train_targets, test_targets = train_test_split(data, targets, test_size=.3)\n",
        "train_data, validation_data, train_targets, validation_targets = train_test_split(train_data, train_targets, test_size=.2)"
      ]
    },
    {
      "cell_type": "code",
      "execution_count": 9,
      "metadata": {
        "id": "KhiQL_x4xXIR"
      },
      "outputs": [],
      "source": []
    },
    {
      "cell_type": "markdown",
      "metadata": {
        "id": "h6FcMVgPq8WU"
      },
      "source": [
        "Standardizing the data"
      ]
    },
    {
      "cell_type": "code",
      "execution_count": 10,
      "metadata": {
        "colab": {
          "base_uri": "https://localhost:8080/"
        },
        "id": "4f35wvaKq9pt",
        "outputId": "a6268b3f-beb5-4b0a-bd0a-5497562578a7"
      },
      "outputs": [
        {
          "output_type": "stream",
          "name": "stderr",
          "text": [
            "/usr/local/lib/python3.10/dist-packages/numpy/core/fromnumeric.py:3430: FutureWarning: In a future version, DataFrame.mean(axis=None) will return a scalar mean over the entire DataFrame. To retain the old behavior, use 'frame.mean(axis=0)' or just 'frame.mean()'\n",
            "  return mean(axis=axis, dtype=dtype, out=out, **kwargs)\n"
          ]
        }
      ],
      "source": [
        "mean = np.mean(train_data)\n",
        "std = np.std(train_data)\n",
        "\n",
        "train_data -= mean\n",
        "train_data /= std\n",
        "\n",
        "test_data -= mean\n",
        "test_data /= std"
      ]
    },
    {
      "cell_type": "markdown",
      "metadata": {
        "id": "sxH17ouLrCjb"
      },
      "source": [
        "Implementing deep learning model with 1 input Layer (No. of features ), 3 hidden layers including 10,8,6 unit & Output Layer with activation function relu and finally a sigmoid layer for classification"
      ]
    },
    {
      "cell_type": "code",
      "execution_count": 11,
      "metadata": {
        "id": "fXpAngFPrPyy"
      },
      "outputs": [],
      "source": [
        "from keras import models, layers\n",
        "\n",
        "model = models.Sequential()\n",
        "model.add(layers.Dense(10, input_shape=(train_data.shape[1],), activation='relu'))\n",
        "model.add(layers.Dense(8, activation='relu'))\n",
        "model.add(layers.Dense(6, activation='relu'))\n",
        "model.add(layers.Dense(1, activation='sigmoid'))"
      ]
    },
    {
      "cell_type": "markdown",
      "metadata": {
        "id": "Rp_dz9xsr1Ck"
      },
      "source": [
        "Compilation Step - Defining optimzer and loss function"
      ]
    },
    {
      "cell_type": "code",
      "execution_count": 12,
      "metadata": {
        "id": "FEaaSsk2rzAy"
      },
      "outputs": [],
      "source": [
        "from sklearn.metrics import classification_report\n",
        "\n",
        "model.compile(optimizer='rmsprop', loss='binary_crossentropy')"
      ]
    },
    {
      "cell_type": "markdown",
      "metadata": {
        "id": "OuDO34fgsDvZ"
      },
      "source": [
        "Model Training"
      ]
    },
    {
      "cell_type": "code",
      "execution_count": 13,
      "metadata": {
        "colab": {
          "base_uri": "https://localhost:8080/"
        },
        "id": "qAq8ALeUsEty",
        "outputId": "f0bb9d5e-1240-411a-ba99-cafa0cade86b"
      },
      "outputs": [
        {
          "output_type": "stream",
          "name": "stdout",
          "text": [
            "Epoch 1/50\n",
            "2493/2493 [==============================] - 5s 2ms/step - loss: 0.0280\n",
            "Epoch 2/50\n",
            "2493/2493 [==============================] - 6s 2ms/step - loss: 0.0053\n",
            "Epoch 3/50\n",
            "2493/2493 [==============================] - 4s 2ms/step - loss: 0.0047\n",
            "Epoch 4/50\n",
            "2493/2493 [==============================] - 4s 2ms/step - loss: 0.0044\n",
            "Epoch 5/50\n",
            "2493/2493 [==============================] - 6s 2ms/step - loss: 0.0044\n",
            "Epoch 6/50\n",
            "2493/2493 [==============================] - 4s 2ms/step - loss: 0.0044\n",
            "Epoch 7/50\n",
            "2493/2493 [==============================] - 4s 2ms/step - loss: 0.0042\n",
            "Epoch 8/50\n",
            "2493/2493 [==============================] - 5s 2ms/step - loss: 0.0042\n",
            "Epoch 9/50\n",
            "2493/2493 [==============================] - 4s 2ms/step - loss: 0.0042\n",
            "Epoch 10/50\n",
            "2493/2493 [==============================] - 4s 2ms/step - loss: 0.0042\n",
            "Epoch 11/50\n",
            "2493/2493 [==============================] - 5s 2ms/step - loss: 0.0043\n",
            "Epoch 12/50\n",
            "2493/2493 [==============================] - 4s 2ms/step - loss: 0.0042\n",
            "Epoch 13/50\n",
            "2493/2493 [==============================] - 4s 2ms/step - loss: 0.0041\n",
            "Epoch 14/50\n",
            "2493/2493 [==============================] - 5s 2ms/step - loss: 0.0042\n",
            "Epoch 15/50\n",
            "2493/2493 [==============================] - 4s 2ms/step - loss: 0.0042\n",
            "Epoch 16/50\n",
            "2493/2493 [==============================] - 4s 2ms/step - loss: 0.0041\n",
            "Epoch 17/50\n",
            "2493/2493 [==============================] - 6s 2ms/step - loss: 0.0042\n",
            "Epoch 18/50\n",
            "2493/2493 [==============================] - 4s 2ms/step - loss: 0.0042\n",
            "Epoch 19/50\n",
            "2493/2493 [==============================] - 5s 2ms/step - loss: 0.0042\n",
            "Epoch 20/50\n",
            "2493/2493 [==============================] - 5s 2ms/step - loss: 0.0042\n",
            "Epoch 21/50\n",
            "2493/2493 [==============================] - 4s 2ms/step - loss: 0.0044\n",
            "Epoch 22/50\n",
            "2493/2493 [==============================] - 4s 2ms/step - loss: 0.0043\n",
            "Epoch 23/50\n",
            "2493/2493 [==============================] - 5s 2ms/step - loss: 0.0043\n",
            "Epoch 24/50\n",
            "2493/2493 [==============================] - 4s 2ms/step - loss: 0.0041\n",
            "Epoch 25/50\n",
            "2493/2493 [==============================] - 5s 2ms/step - loss: 0.0043\n",
            "Epoch 26/50\n",
            "2493/2493 [==============================] - 5s 2ms/step - loss: 0.0041\n",
            "Epoch 27/50\n",
            "2493/2493 [==============================] - 4s 2ms/step - loss: 0.0042\n",
            "Epoch 28/50\n",
            "2493/2493 [==============================] - 4s 2ms/step - loss: 0.0043\n",
            "Epoch 29/50\n",
            "2493/2493 [==============================] - 5s 2ms/step - loss: 0.0042\n",
            "Epoch 30/50\n",
            "2493/2493 [==============================] - 4s 2ms/step - loss: 0.0043\n",
            "Epoch 31/50\n",
            "2493/2493 [==============================] - 5s 2ms/step - loss: 0.0042\n",
            "Epoch 32/50\n",
            "2493/2493 [==============================] - 7s 3ms/step - loss: 0.0043\n",
            "Epoch 33/50\n",
            "2493/2493 [==============================] - 5s 2ms/step - loss: 0.0043\n",
            "Epoch 34/50\n",
            "2493/2493 [==============================] - 7s 3ms/step - loss: 0.0043\n",
            "Epoch 35/50\n",
            "2493/2493 [==============================] - 4s 2ms/step - loss: 0.0043\n",
            "Epoch 36/50\n",
            "2493/2493 [==============================] - 4s 2ms/step - loss: 0.0045\n",
            "Epoch 37/50\n",
            "2493/2493 [==============================] - 5s 2ms/step - loss: 0.0043\n",
            "Epoch 38/50\n",
            "2493/2493 [==============================] - 4s 2ms/step - loss: 0.0043\n",
            "Epoch 39/50\n",
            "2493/2493 [==============================] - 4s 2ms/step - loss: 0.0043\n",
            "Epoch 40/50\n",
            "2493/2493 [==============================] - 6s 2ms/step - loss: 0.0045\n",
            "Epoch 41/50\n",
            "2493/2493 [==============================] - 4s 2ms/step - loss: 0.0043\n",
            "Epoch 42/50\n",
            "2493/2493 [==============================] - 4s 2ms/step - loss: 0.0043\n",
            "Epoch 43/50\n",
            "2493/2493 [==============================] - 5s 2ms/step - loss: 0.0043\n",
            "Epoch 44/50\n",
            "2493/2493 [==============================] - 4s 2ms/step - loss: 0.0044\n",
            "Epoch 45/50\n",
            "2493/2493 [==============================] - 4s 2ms/step - loss: 0.0043\n",
            "Epoch 46/50\n",
            "2493/2493 [==============================] - 5s 2ms/step - loss: 0.0043\n",
            "Epoch 47/50\n",
            "2493/2493 [==============================] - 4s 2ms/step - loss: 0.0044\n",
            "Epoch 48/50\n",
            "2493/2493 [==============================] - 4s 2ms/step - loss: 0.0043\n",
            "Epoch 49/50\n",
            "2493/2493 [==============================] - 5s 2ms/step - loss: 0.0044\n",
            "Epoch 50/50\n",
            "2493/2493 [==============================] - 4s 2ms/step - loss: 0.0044\n"
          ]
        }
      ],
      "source": [
        "history = model.fit(train_data, train_targets, epochs=50, batch_size=64)"
      ]
    },
    {
      "cell_type": "code",
      "execution_count": 13,
      "metadata": {
        "id": "wpXVhrfYypfc"
      },
      "outputs": [],
      "source": []
    },
    {
      "cell_type": "markdown",
      "metadata": {
        "id": "qPdfm0gqtl4L"
      },
      "source": [
        "**Section 3: Analysis** (10 points)"
      ]
    },
    {
      "cell_type": "code",
      "execution_count": 14,
      "metadata": {
        "colab": {
          "base_uri": "https://localhost:8080/"
        },
        "id": "1Gi9mz0ztoLs",
        "outputId": "2c3bf9e0-d70a-4e56-b22e-919b3e55fee8"
      },
      "outputs": [
        {
          "output_type": "stream",
          "name": "stdout",
          "text": [
            "2671/2671 [==============================] - 4s 2ms/step\n",
            "              precision    recall  f1-score   support\n",
            "\n",
            "           0       1.00      1.00      1.00     85298\n",
            "           1       0.85      0.80      0.82       145\n",
            "\n",
            "    accuracy                           1.00     85443\n",
            "   macro avg       0.92      0.90      0.91     85443\n",
            "weighted avg       1.00      1.00      1.00     85443\n",
            "\n"
          ]
        }
      ],
      "source": [
        "test_preds = model.predict(test_data)\n",
        "test_preds = np.round(test_preds)\n",
        "print(classification_report(test_targets, test_preds))"
      ]
    },
    {
      "cell_type": "markdown",
      "metadata": {
        "id": "meixY9Hc3mQf"
      },
      "source": [
        "As we can see from the classification report, the model is able to identify non fraud transactions with perferct precision and recall (100 %).\n",
        "\n",
        "The model is able to identify frauds with 85% of precision and 80% of recall.\n"
      ]
    },
    {
      "cell_type": "markdown",
      "metadata": {
        "id": "qO47Ui7A3feI"
      },
      "source": [
        "**Discussion:** Delve into the pros and cons of the model, commenting on potential\n",
        "overfitting, or other relevant observations"
      ]
    },
    {
      "cell_type": "markdown",
      "metadata": {
        "id": "RXE_9Sxl4RFR"
      },
      "source": [
        "As we can see, The model prefers to classify a transaction as non fraud over fraud which should generally be the case so not to identify a genuine transaction as fraud and cause an inconvinience to the customers. Due to highly unbalanced nature of the dataset with non fraud examples in quantity much more than the fraud ones, the model learns to identify non fraud transactions really well but lacks the ability to identify the fraud transactions. Resampling of the datset to make the classes balanced may improve the model's performance"
      ]
    },
    {
      "cell_type": "markdown",
      "metadata": {
        "id": "kXIBq9mJ4rmx"
      },
      "source": [
        "**Pros of the model:**\n",
        "1. Automatic feature learning: Deep learning algorithms can automatically learn features from the data, which means that they don’t require the features to be hand-engineered.\n",
        "\n",
        "2. Handling large and complex data is easily possible\n",
        "\n",
        "3. Generally Improved performance over traditional ML classification techniques\n",
        "\n",
        "4. Calssifier can handle non-linear relationships boundary pretty good\n",
        "\n",
        "5. Deep learning classificationmodel generalize well if trained properly.\n",
        "\n",
        "**Cons of the models:**\n",
        "\n",
        "1. Deep learning classification models have high memory requirements\n",
        "\n",
        "2. They require greater time to train the models over traditional ML techniques\n",
        "\n",
        "3. In case of smaller datasets, deep learning classification models tend to overfit quickly\n",
        "\n",
        "4. There is loss of interpretability when working with these models.\n",
        "\n",
        "5. Deep learning classification algorithms rely extensively on the quality of the data they are trained on. If the data is noisy, incomplete, or biased, the model’s performance will be negatively affected."
      ]
    },
    {
      "cell_type": "markdown",
      "metadata": {
        "id": "2nnAVptW7Pbu"
      },
      "source": []
    },
    {
      "cell_type": "markdown",
      "metadata": {
        "id": "bnNeytaI5vXh"
      },
      "source": [
        "2. Deep Learning for Regression (Neural Networks)"
      ]
    },
    {
      "cell_type": "markdown",
      "metadata": {
        "id": "ZkxlKaiO7RAG"
      },
      "source": [
        "**Section 1**: Introduction (5 points)"
      ]
    },
    {
      "cell_type": "markdown",
      "metadata": {
        "id": "jfZFWdJ07UIp"
      },
      "source": [
        "**Problem Statement:**: California Housing price prediction using deeplearning"
      ]
    },
    {
      "cell_type": "markdown",
      "metadata": {
        "id": "yhY3WfXu5vhz"
      },
      "source": [
        "**Data Description:** :\n",
        "The data we use is the California housing prices dataset, in which we are going to predict the median housing prices. The data is available at https://github.com/timothypesi/Data-Sets-For-Machine-Learning-/blob/main/california_housing_train.csv and https://github.com/timothypesi/Data-Sets-For-Machine-Learning-/blob/main/california_housing_test.csv"
      ]
    },
    {
      "cell_type": "markdown",
      "metadata": {
        "id": "TrEuGLyC8Q7z"
      },
      "source": [
        "We are referring for the code to: https://www.analyticsvidhya.com/blog/2021/08/a-walk-through-of-regression-analysis-using-artificial-neural-networks-in-tensorflow/"
      ]
    },
    {
      "cell_type": "markdown",
      "metadata": {
        "id": "6He2OtY18kPM"
      },
      "source": [
        "**Section 2**: **Implementation - Code and Notes**"
      ]
    },
    {
      "cell_type": "code",
      "execution_count": 15,
      "metadata": {
        "id": "fggQhjTm72ti"
      },
      "outputs": [],
      "source": [
        "# import required libraries\n",
        "import math\n",
        "import pandas as pd\n",
        "import tensorflow as tf\n",
        "import matplotlib.pyplot as plt\n",
        "from tensorflow.keras import Model\n",
        "from tensorflow.keras import Sequential\n",
        "from tensorflow.keras.optimizers import Adam\n",
        "from sklearn.preprocessing import StandardScaler\n",
        "from tensorflow.keras.layers import Dense, Dropout\n",
        "from sklearn.model_selection import train_test_split\n",
        "from tensorflow.keras.losses import MeanSquaredLogarithmicError\n",
        "TRAIN_DATA_PATH = '/content/california_housing_train.csv'\n",
        "TEST_DATA_PATH = '/content/california_housing_test.csv'\n",
        "TARGET_NAME = 'median_house_value'"
      ]
    },
    {
      "cell_type": "markdown",
      "metadata": {
        "id": "Vv0JR7k_9L4Y"
      },
      "source": [
        "Read the train and test data and split the data into features and targets."
      ]
    },
    {
      "cell_type": "code",
      "execution_count": 16,
      "metadata": {
        "id": "kx8Dwd4v8nJ2"
      },
      "outputs": [],
      "source": [
        "train_data = pd.read_csv(TRAIN_DATA_PATH)\n",
        "test_data = pd.read_csv(TEST_DATA_PATH)\n",
        "x_train, y_train = train_data.drop(TARGET_NAME, axis=1), train_data[TARGET_NAME]\n",
        "x_test, y_test = test_data.drop(TARGET_NAME, axis=1), test_data[TARGET_NAME]"
      ]
    },
    {
      "cell_type": "markdown",
      "metadata": {
        "id": "fGsC7ri_9oOh"
      },
      "source": [
        "Scale the data"
      ]
    },
    {
      "cell_type": "code",
      "execution_count": 32,
      "metadata": {
        "id": "QpdrgQqw9Bsq"
      },
      "outputs": [],
      "source": [
        "def scale_datasets(x_train, x_test):\n",
        "\n",
        "  \"\"\"\n",
        "  Standard Scale test and train data\n",
        "  Z - Score normalization\n",
        "  \"\"\"\n",
        "  standard_scaler = StandardScaler()\n",
        "  x_train_scaled = pd.DataFrame(\n",
        "      standard_scaler.fit_transform(x_train),\n",
        "      columns=x_train.columns\n",
        "  )\n",
        "  x_test_scaled = pd.DataFrame(\n",
        "      standard_scaler.transform(x_test),\n",
        "      columns = x_test.columns\n",
        "  )\n",
        "  return x_train_scaled, x_test_scaled\n",
        "x_train_scaled, x_test_scaled = scale_datasets(x_train, x_test)\n",
        "\n"
      ]
    },
    {
      "cell_type": "markdown",
      "metadata": {
        "id": "KZvJv7iN9z46"
      },
      "source": [
        "Defining the model -\n",
        "We are going to build the Neural Network model using TensorFlow’s Sequential class. Here we have used four layers. The first layer consists of 160 hidden units/ neurons with the ReLU activation function. ReLU stands for Rectified Linear Units. The second layer consists of 480 hidden units with the ReLU activation function. The third layer consists of 256 hidden units with the ReLU activation function. The final layer is the output layer which consists of one unit with a linear activation function."
      ]
    },
    {
      "cell_type": "code",
      "execution_count": 33,
      "metadata": {
        "id": "8CCuMgan9tTv"
      },
      "outputs": [],
      "source": [
        "hidden_units1 = 160\n",
        "hidden_units2 = 480\n",
        "hidden_units3 = 256\n",
        "learning_rate = 0.01\n",
        "# Creating model using the Sequential in tensorflow\n",
        "def build_model_using_sequential():\n",
        "  model = Sequential([\n",
        "    Dense(hidden_units1, kernel_initializer='normal', activation='relu'),\n",
        "    Dropout(0.2),\n",
        "    Dense(hidden_units2, kernel_initializer='normal', activation='relu'),\n",
        "    Dropout(0.2),\n",
        "    Dense(hidden_units3, kernel_initializer='normal', activation='relu'),\n",
        "    Dense(1, kernel_initializer='normal', activation='linear')\n",
        "  ])\n",
        "  return model\n",
        "# build the model\n",
        "model = build_model_using_sequential()"
      ]
    },
    {
      "cell_type": "markdown",
      "metadata": {
        "id": "98SJgSet-Bid"
      },
      "source": [
        "Defining the loss function and training the model"
      ]
    },
    {
      "cell_type": "code",
      "execution_count": 34,
      "metadata": {
        "colab": {
          "base_uri": "https://localhost:8080/"
        },
        "id": "vkJFJF2A91Y-",
        "outputId": "552ed089-8773-41b1-c5ed-dff7d0c9ab44"
      },
      "outputs": [
        {
          "output_type": "stream",
          "name": "stdout",
          "text": [
            "Epoch 1/10\n",
            "213/213 [==============================] - 3s 8ms/step - loss: 5.8731 - mean_squared_logarithmic_error: 5.8601 - val_loss: 0.6591 - val_mean_squared_logarithmic_error: 0.6552\n",
            "Epoch 2/10\n",
            "213/213 [==============================] - 1s 7ms/step - loss: 0.2561 - mean_squared_logarithmic_error: 0.2559 - val_loss: 0.3669 - val_mean_squared_logarithmic_error: 0.3719\n",
            "Epoch 3/10\n",
            "213/213 [==============================] - 1s 7ms/step - loss: 0.1912 - mean_squared_logarithmic_error: 0.1912 - val_loss: 0.2720 - val_mean_squared_logarithmic_error: 0.2794\n",
            "Epoch 4/10\n",
            "213/213 [==============================] - 1s 7ms/step - loss: 0.1541 - mean_squared_logarithmic_error: 0.1542 - val_loss: 0.2066 - val_mean_squared_logarithmic_error: 0.2145\n",
            "Epoch 5/10\n",
            "213/213 [==============================] - 2s 7ms/step - loss: 0.1271 - mean_squared_logarithmic_error: 0.1272 - val_loss: 0.1593 - val_mean_squared_logarithmic_error: 0.1672\n",
            "Epoch 6/10\n",
            "213/213 [==============================] - 2s 11ms/step - loss: 0.1135 - mean_squared_logarithmic_error: 0.1135 - val_loss: 0.1375 - val_mean_squared_logarithmic_error: 0.1446\n",
            "Epoch 7/10\n",
            "213/213 [==============================] - 2s 8ms/step - loss: 0.1063 - mean_squared_logarithmic_error: 0.1062 - val_loss: 0.1274 - val_mean_squared_logarithmic_error: 0.1341\n",
            "Epoch 8/10\n",
            "213/213 [==============================] - 1s 7ms/step - loss: 0.1029 - mean_squared_logarithmic_error: 0.1029 - val_loss: 0.1248 - val_mean_squared_logarithmic_error: 0.1318\n",
            "Epoch 9/10\n",
            "213/213 [==============================] - 2s 7ms/step - loss: 0.1008 - mean_squared_logarithmic_error: 0.1007 - val_loss: 0.1247 - val_mean_squared_logarithmic_error: 0.1319\n",
            "Epoch 10/10\n",
            "213/213 [==============================] - 1s 7ms/step - loss: 0.0985 - mean_squared_logarithmic_error: 0.0985 - val_loss: 0.1181 - val_mean_squared_logarithmic_error: 0.1242\n"
          ]
        }
      ],
      "source": [
        "# loss function\n",
        "msle = MeanSquaredLogarithmicError()\n",
        "model.compile(\n",
        "    loss=msle,\n",
        "    optimizer=Adam(learning_rate=learning_rate),\n",
        "    metrics=[msle]\n",
        ")\n",
        "# train the model\n",
        "history = model.fit(\n",
        "    x_train_scaled.values,\n",
        "    y_train.values,\n",
        "    epochs=10,\n",
        "    batch_size=64,\n",
        "    validation_split=0.2\n",
        ")"
      ]
    },
    {
      "cell_type": "markdown",
      "metadata": {
        "id": "RQ3i0NPWAy4R"
      },
      "source": [
        "**Section 3: Analysis** (10 points)"
      ]
    },
    {
      "cell_type": "markdown",
      "metadata": {
        "id": "uDza0WII-Kid"
      },
      "source": [
        "Visualize the loss"
      ]
    },
    {
      "cell_type": "code",
      "execution_count": 35,
      "metadata": {
        "colab": {
          "base_uri": "https://localhost:8080/",
          "height": 449
        },
        "id": "QosqIT2X-EwX",
        "outputId": "a54bd040-a14e-49cc-86c3-2e5fd7c92dda"
      },
      "outputs": [
        {
          "output_type": "display_data",
          "data": {
            "text/plain": [
              "<Figure size 640x480 with 1 Axes>"
            ],
            "image/png": "[encoded data removed]"
          },
          "metadata": {}
        }
      ],
      "source": [
        "def plot_history(history, key):\n",
        "  plt.plot(history.history[key])\n",
        "  plt.plot(history.history['val_'+key])\n",
        "  plt.xlabel(\"Epochs\")\n",
        "  plt.ylabel(key)\n",
        "  plt.legend([key, 'val_'+key])\n",
        "  plt.show()\n",
        "# Plot the history\n",
        "plot_history(history, 'mean_squared_logarithmic_error')"
      ]
    },
    {
      "cell_type": "markdown",
      "metadata": {
        "id": "BqA2M4UID1FE"
      },
      "source": [
        "As we can see, after only 2 epochs the loss is very low and it flattens out afterwards."
      ]
    },
    {
      "cell_type": "code",
      "execution_count": 36,
      "metadata": {
        "colab": {
          "base_uri": "https://localhost:8080/"
        },
        "id": "b1tDUiqh-L42",
        "outputId": "490639a4-f16b-4d61-ce2a-ee9b13caac48"
      },
      "outputs": [
        {
          "output_type": "stream",
          "name": "stdout",
          "text": [
            "94/94 [==============================] - 0s 2ms/step\n"
          ]
        }
      ],
      "source": [
        "pred = model.predict(x_test_scaled.values)"
      ]
    },
    {
      "cell_type": "code",
      "execution_count": 37,
      "metadata": {
        "colab": {
          "base_uri": "https://localhost:8080/"
        },
        "id": "LIUVJlK6A6iu",
        "outputId": "8900c0a1-1bef-4968-da9a-5981166b2db4"
      },
      "outputs": [
        {
          "output_type": "execute_result",
          "data": {
            "text/plain": [
              "array([[343485.72],\n",
              "       [188912.1 ],\n",
              "       [255278.56],\n",
              "       ...,\n",
              "       [ 99549.53],\n",
              "       [131533.03],\n",
              "       [492415.5 ]], dtype=float32)"
            ]
          },
          "metadata": {},
          "execution_count": 37
        }
      ],
      "source": [
        "# these are the predictions for the house prices\n",
        "pred"
      ]
    },
    {
      "cell_type": "markdown",
      "metadata": {
        "id": "Xl772RNtFBWD"
      },
      "source": [
        "Checking the quality of predictions with mean squared loss as the metric"
      ]
    },
    {
      "cell_type": "code",
      "execution_count": 38,
      "metadata": {
        "colab": {
          "base_uri": "https://localhost:8080/"
        },
        "id": "pD_chT8iBneq",
        "outputId": "1dd20435-6d87-47d6-bbaa-6ce9b3abb625"
      },
      "outputs": [
        {
          "output_type": "execute_result",
          "data": {
            "text/plain": [
              "4858810417.278506"
            ]
          },
          "metadata": {},
          "execution_count": 38
        }
      ],
      "source": [
        "from sklearn.metrics import mean_squared_error\n",
        "mean_squared_error(y_test, pred)"
      ]
    },
    {
      "cell_type": "markdown",
      "metadata": {
        "id": "GugzrqT1F8WV"
      },
      "source": [
        "**Discussion:** Delve into the pros and cons of the model, commenting on potential\n",
        "overfitting, or other relevant observations"
      ]
    },
    {
      "cell_type": "markdown",
      "metadata": {
        "id": "RjEzwnM0GGsE"
      },
      "source": [
        "We are getting a relatively larger mean squared error, but this is as we are predicting large numbers, rescaling will reduce this mean squared error significantly. Another reason behind this is the neural network may be overfitting on training data and is failing to generalize on test data. We need to get much larger data for our model to perform well."
      ]
    },
    {
      "cell_type": "markdown",
      "metadata": {
        "id": "wWhhW0hoGCyn"
      },
      "source": [
        "**Pros of the model:**\n",
        "1. Automatic feature learning: Deep learning algorithms can automatically learn features from the data, which means that they don’t require the features to be hand-engineered.\n",
        "\n",
        "2. Deep learning regression models can handle large and complex data easily\n",
        "\n",
        "3. Generally Improved performance over traditional ML regression techniques\n",
        "\n",
        "4. Deep learning regression models can handle non-linear relationships extremely well\n",
        "\n",
        "5. Deep learning regression model generalize well if trained properly.\n",
        "\n",
        "**Cons of the models:**\n",
        "\n",
        "1. Deep learning regression models have high memory requirements\n",
        "\n",
        "2. They require greater time to train the models over traditional ML regression techniques\n",
        "\n",
        "3. In case of smaller datasets, deep learning models tend to overfit quickly as in our case\n",
        "\n",
        "4. There is loss of interpretability when working with these models.\n",
        "\n",
        "5. Deep learning regression algorithms rely extensively on the quality of the data they are trained on. If the data is noisy, incomplete, or biased, the model’s performance will be negatively affected."
      ]
    },
    {
      "cell_type": "markdown",
      "metadata": {
        "id": "paHfrXNyiwLV"
      },
      "source": []
    },
    {
      "cell_type": "markdown",
      "metadata": {
        "id": "BGdhIq5niwSQ"
      },
      "source": [
        "3. RNNs"
      ]
    },
    {
      "cell_type": "markdown",
      "metadata": {
        "id": "lOnGrlipi1rU"
      },
      "source": [
        "**Section 1**: Introduction (5 points)"
      ]
    },
    {
      "cell_type": "markdown",
      "metadata": {
        "id": "k8mg4bYFi7bE"
      },
      "source": [
        "**Problem Statement:**: Time series forecasting of google's stock data with RNN"
      ]
    },
    {
      "cell_type": "markdown",
      "metadata": {
        "id": "izCl7XJZi_MC"
      },
      "source": [
        "**Data Description:** :\n",
        "This code uses the yf.download() method of the yfinance library to download historical stock data for Google from Yahoo Finance. Using the dt.datetime() method of the datetime module, the start and end dates of the time period for which the data has been obtained are given."
      ]
    },
    {
      "cell_type": "markdown",
      "metadata": {
        "id": "Rhk-6ckujDcJ"
      },
      "source": [
        "We are referring for the code to: https://www.geeksforgeeks.org/time-series-forecasting-using-recurrent-neural-networks-rnn-in-tensorflow/"
      ]
    },
    {
      "cell_type": "markdown",
      "metadata": {
        "id": "S84wRJzdjsHA"
      },
      "source": [
        "**Section 2**: **Implementation - Code and Notes**"
      ]
    },
    {
      "cell_type": "code",
      "execution_count": 39,
      "metadata": {
        "id": "cqn_u9uUi_fm"
      },
      "outputs": [],
      "source": [
        "# importing necessary libraries\n",
        "\n",
        "import numpy as np\n",
        "import pandas as pd\n",
        "import yfinance as yf\n",
        "import datetime as dt\n",
        "import matplotlib.pyplot as plt\n",
        "import math"
      ]
    },
    {
      "cell_type": "code",
      "execution_count": 40,
      "metadata": {
        "colab": {
          "base_uri": "https://localhost:8080/"
        },
        "id": "b200imzVjvyx",
        "outputId": "7c9a2261-d724-453b-976c-a5e1efde43f1"
      },
      "outputs": [
        {
          "output_type": "stream",
          "name": "stdout",
          "text": [
            "\r[*********************100%%**********************]  1 of 1 completed\n",
            "                  Open        High  ...   Adj Close    Volume\n",
            "Date                                ...                      \n",
            "2020-04-01   56.200001   56.471001  ...   55.105000  51970000\n",
            "2020-04-02   55.000000   56.138500  ...   55.851501  56410000\n",
            "...                ...         ...  ...         ...       ...\n",
            "2023-03-30  100.910004  101.160004  ...  100.889999  33086200\n",
            "2023-03-31  101.300003  103.889999  ...  103.730003  36863400\n",
            "\n",
            "[756 rows x 6 columns]\n"
          ]
        }
      ],
      "source": [
        "#the start and end date\n",
        "start_date = dt.datetime(2020,4,1)\n",
        "end_date = dt.datetime(2023,4,1)\n",
        "\n",
        "#loading from yahoo finance\n",
        "data = yf.download(\"GOOGL\",start_date, end_date)\n",
        "\n",
        "pd.set_option('display.max_rows', 4)\n",
        "pd.set_option('display.max_columns',5)\n",
        "print(data)"
      ]
    },
    {
      "cell_type": "markdown",
      "metadata": {
        "id": "10RiyxIPj_Cu"
      },
      "source": [
        "Splitting datset in train and test split"
      ]
    },
    {
      "cell_type": "code",
      "execution_count": 41,
      "metadata": {
        "colab": {
          "base_uri": "https://localhost:8080/"
        },
        "id": "J2qYnhgEjzKr",
        "outputId": "51eb17f3-f303-4943-bea0-8925ed25ac72"
      },
      "outputs": [
        {
          "output_type": "stream",
          "name": "stdout",
          "text": [
            "(605, 1) (151, 1)\n"
          ]
        }
      ],
      "source": [
        "# Setting 80 percent data for training\n",
        "training_data_len = math.ceil(len(data) * .8)\n",
        "training_data_len\n",
        "\n",
        "#Splitting the dataset\n",
        "train_data = data[:training_data_len].iloc[:,:1]\n",
        "test_data = data[training_data_len:].iloc[:,:1]\n",
        "print(train_data.shape, test_data.shape)\n"
      ]
    },
    {
      "cell_type": "markdown",
      "metadata": {
        "id": "ppoR7-BykI5r"
      },
      "source": [
        "This code creates a numpy array called dataset_train and populates it with the “Open” pricing values from the training data. The 1-dimensional array is then transformed into a 2-dimensional array. The shape property, which returns the tuple (num_rows, num_columns) denoting the dataset_train array’s final shape"
      ]
    },
    {
      "cell_type": "code",
      "execution_count": 42,
      "metadata": {
        "colab": {
          "base_uri": "https://localhost:8080/"
        },
        "id": "hN2gdHfVkCVl",
        "outputId": "ed40900b-4a5e-47bd-c6b3-4f11755d1454"
      },
      "outputs": [
        {
          "output_type": "execute_result",
          "data": {
            "text/plain": [
              "(605, 1)"
            ]
          },
          "metadata": {},
          "execution_count": 42
        }
      ],
      "source": [
        "# Selecting Open Price values\n",
        "dataset_train = train_data.Open.values\n",
        "# Reshaping 1D to 2D array\n",
        "dataset_train = np.reshape(dataset_train, (-1,1))\n",
        "dataset_train.shape"
      ]
    },
    {
      "cell_type": "markdown",
      "metadata": {
        "id": "ov2rOeObkPsZ"
      },
      "source": [
        "Normalization is a crucial step in data preprocessing to enhance the effectiveness and interpretability of machine learning models. Hence MinMaxScaler from sklearn is imported to scale the dataset from 0 to 1. Using the sklearn fit_transform() method, the training dataset is scaled."
      ]
    },
    {
      "cell_type": "code",
      "execution_count": 43,
      "metadata": {
        "colab": {
          "base_uri": "https://localhost:8080/"
        },
        "id": "J9NwE2d4kLJ3",
        "outputId": "f8ea98e4-bd60-4df4-e379-2b1e6d5c66fa"
      },
      "outputs": [
        {
          "output_type": "stream",
          "name": "stdout",
          "text": [
            "[[0.01246754]\n",
            " [0.        ]\n",
            " [0.00764156]\n",
            " [0.01714287]\n",
            " [0.0607844 ]]\n"
          ]
        }
      ],
      "source": [
        "from sklearn.preprocessing import MinMaxScaler\n",
        "scaler = MinMaxScaler(feature_range=(0,1))\n",
        "# scaling dataset\n",
        "scaled_train = scaler.fit_transform(dataset_train)\n",
        "\n",
        "print(scaled_train[:5])\n"
      ]
    },
    {
      "cell_type": "markdown",
      "metadata": {
        "id": "octahJjBkVQ3"
      },
      "source": [
        "The same data preprocessing is done for test data."
      ]
    },
    {
      "cell_type": "code",
      "execution_count": 44,
      "metadata": {
        "colab": {
          "base_uri": "https://localhost:8080/"
        },
        "id": "eHgpLMl0kRoK",
        "outputId": "026de414-6cee-4d22-8392-47aedb6fc257"
      },
      "outputs": [
        {
          "output_type": "stream",
          "name": "stdout",
          "text": [
            "[0.98362881] [1.] [0.83867656] [0.84481572] [0.86118691]\n"
          ]
        }
      ],
      "source": [
        "# Selecting Open Price values\n",
        "dataset_test = test_data.Open.values\n",
        "# Reshaping 1D to 2D array\n",
        "dataset_test = np.reshape(dataset_test, (-1,1))\n",
        "# Normalizing values between 0 and 1\n",
        "scaled_test = scaler.fit_transform(dataset_test)\n",
        "print(*scaled_test[:5])\n"
      ]
    },
    {
      "cell_type": "markdown",
      "metadata": {
        "id": "EDvkvfT2ka2M"
      },
      "source": [
        "The time-series data must be divided into X_train and y_train from the training set and X_test and y_test from the testing set in this phase. It is done to turn time series data into a supervised learning problem that can be utilized to train the model. The loop generates input/output sequences of length 50 while iterating through the time series data. Using this method, we can forecast future values while taking into consideration the data’s temporal dependence on prior observations."
      ]
    },
    {
      "cell_type": "code",
      "execution_count": 45,
      "metadata": {
        "colab": {
          "base_uri": "https://localhost:8080/"
        },
        "id": "ZyGUldS6kW_i",
        "outputId": "aa3a0e89-201f-4444-91dd-c2d028cdf0f6"
      },
      "outputs": [
        {
          "output_type": "stream",
          "name": "stdout",
          "text": [
            "[array([0.01246754, 0.        , 0.00764156, 0.01714287, 0.0607844 ,\n",
            "       0.05355843, 0.06139221, 0.05272728, 0.0727117 , 0.0761091 ,\n",
            "       0.08682596, 0.0943896 , 0.08825454, 0.07413508, 0.0733039 ,\n",
            "       0.08609869, 0.08051948, 0.09974024, 0.09516887, 0.12727273,\n",
            "       0.12018702, 0.11641037, 0.1081195 , 0.12337662, 0.13402599,\n",
            "       0.13574544, 0.14640004, 0.14378702, 0.16011432, 0.14345973,\n",
            "       0.12130912, 0.12896625, 0.13588574, 0.14830132, 0.15021299,\n",
            "       0.16155324, 0.15787013, 0.17764155, 0.16623377, 0.15584416,\n",
            "       0.16645714, 0.16919484, 0.17402597, 0.178026  , 0.17495062,\n",
            "       0.16396881, 0.16949613, 0.17934547, 0.18779741, 0.17715843])]\n",
            "[0.16927791446834417]\n",
            "\n",
            "[array([0.01246754, 0.        , 0.00764156, 0.01714287, 0.0607844 ,\n",
            "       0.05355843, 0.06139221, 0.05272728, 0.0727117 , 0.0761091 ,\n",
            "       0.08682596, 0.0943896 , 0.08825454, 0.07413508, 0.0733039 ,\n",
            "       0.08609869, 0.08051948, 0.09974024, 0.09516887, 0.12727273,\n",
            "       0.12018702, 0.11641037, 0.1081195 , 0.12337662, 0.13402599,\n",
            "       0.13574544, 0.14640004, 0.14378702, 0.16011432, 0.14345973,\n",
            "       0.12130912, 0.12896625, 0.13588574, 0.14830132, 0.15021299,\n",
            "       0.16155324, 0.15787013, 0.17764155, 0.16623377, 0.15584416,\n",
            "       0.16645714, 0.16919484, 0.17402597, 0.178026  , 0.17495062,\n",
            "       0.16396881, 0.16949613, 0.17934547, 0.18779741, 0.17715843]), array([0.        , 0.00764156, 0.01714287, 0.0607844 , 0.05355843,\n",
            "       0.06139221, 0.05272728, 0.0727117 , 0.0761091 , 0.08682596,\n",
            "       0.0943896 , 0.08825454, 0.07413508, 0.0733039 , 0.08609869,\n",
            "       0.08051948, 0.09974024, 0.09516887, 0.12727273, 0.12018702,\n",
            "       0.11641037, 0.1081195 , 0.12337662, 0.13402599, 0.13574544,\n",
            "       0.14640004, 0.14378702, 0.16011432, 0.14345973, 0.12130912,\n",
            "       0.12896625, 0.13588574, 0.14830132, 0.15021299, 0.16155324,\n",
            "       0.15787013, 0.17764155, 0.16623377, 0.15584416, 0.16645714,\n",
            "       0.16919484, 0.17402597, 0.178026  , 0.17495062, 0.16396881,\n",
            "       0.16949613, 0.17934547, 0.18779741, 0.17715843, 0.16927791])]\n",
            "[0.16927791446834417, 0.15038444221793834]\n",
            "\n"
          ]
        }
      ],
      "source": [
        "X_train = []\n",
        "y_train = []\n",
        "for i in range(50, len(scaled_train)):\n",
        "\tX_train.append(scaled_train[i-50:i, 0])\n",
        "\ty_train.append(scaled_train[i, 0])\n",
        "\tif i <= 51:\n",
        "\t\tprint(X_train)\n",
        "\t\tprint(y_train)\n",
        "\t\tprint()"
      ]
    },
    {
      "cell_type": "markdown",
      "metadata": {
        "id": "7nuyAnsVkhpn"
      },
      "source": [
        "Doing same thing for test set"
      ]
    },
    {
      "cell_type": "code",
      "execution_count": 46,
      "metadata": {
        "id": "PRzheogLkeRk"
      },
      "outputs": [],
      "source": [
        "X_test = []\n",
        "y_test = []\n",
        "for i in range(50, len(scaled_test)):\n",
        "\tX_test.append(scaled_test[i-50:i, 0])\n",
        "\ty_test.append(scaled_test[i, 0])\n"
      ]
    },
    {
      "cell_type": "markdown",
      "metadata": {
        "id": "itTbexsMkq-g"
      },
      "source": [
        "the data is converted into a format that is suitable for input to an RNN. np.reshape(X_train, (X_train.shape[0], X_train.shape[1], 1)) transforms the X_train array, which was originally a 2-dimensional array of shape (samples, features), into a 3-dimensional array of shape (samples, time steps, features), where time steps denotes the number of time steps in the input sequence and features denotes the number of features in the input data. Size 1 is an additional dimension that serves as an indication that each time step only has a single feature.\n",
        "\n",
        "The y_train array is transformed from a 1-dimensional array of shape (samples) into a 2-dimensional array of shape (samples, 1) by np.reshape(y_train, (y_train.shape[0], 1)), where each row represents the output value at a certain time step."
      ]
    },
    {
      "cell_type": "code",
      "execution_count": 47,
      "metadata": {
        "colab": {
          "base_uri": "https://localhost:8080/"
        },
        "id": "oanT7DLMklMU",
        "outputId": "fe9899c4-a2c6-46ad-dc65-adaa2c6630f6"
      },
      "outputs": [
        {
          "output_type": "stream",
          "name": "stdout",
          "text": [
            "X_train : (555, 50, 1) y_train : (555, 1)\n",
            "X_test : (101, 50, 1) y_test : (101, 1)\n"
          ]
        }
      ],
      "source": [
        "# For training set:\n",
        "# The data is converted to Numpy array\n",
        "X_train, y_train = np.array(X_train), np.array(y_train)\n",
        "\n",
        "#Reshaping\n",
        "X_train = np.reshape(X_train, (X_train.shape[0], X_train.shape[1],1))\n",
        "y_train = np.reshape(y_train, (y_train.shape[0],1))\n",
        "print(\"X_train :\",X_train.shape,\"y_train :\",y_train.shape)\n",
        "\n",
        "# For testing set:\n",
        "# The data is converted to numpy array\n",
        "X_test, y_test = np.array(X_test), np.array(y_test)\n",
        "\n",
        "#Reshaping\n",
        "X_test = np.reshape(X_test, (X_test.shape[0], X_test.shape[1],1))\n",
        "y_test = np.reshape(y_test, (y_test.shape[0],1))\n",
        "print(\"X_test :\",X_test.shape,\"y_test :\",y_test.shape)\n"
      ]
    },
    {
      "cell_type": "code",
      "execution_count": 48,
      "metadata": {
        "id": "SC1Q7Vv7kvGE"
      },
      "outputs": [],
      "source": [
        "# importing rnn libraries\n",
        "\n",
        "from keras.models import Sequential\n",
        "from keras.layers import LSTM\n",
        "from keras.layers import Dense\n",
        "from keras.layers import SimpleRNN\n",
        "from keras.layers import Dropout\n",
        "from keras.layers import GRU, Bidirectional\n",
        "from keras.optimizers import SGD\n",
        "from sklearn import metrics\n",
        "from sklearn.metrics import mean_squared_error"
      ]
    },
    {
      "cell_type": "markdown",
      "metadata": {
        "id": "b0Md_4IflBRh"
      },
      "source": [
        "Using the Keras API, this code creates a recurrent neural network (RNN) with four layers of basic RNNs and a dense output layer. It makes use of the tanh hyperbolic tangent activation function. To avoid overfitting, a dropout layer with a rate of 0.2 is introduced. It employs the optimizer as Adam, mean squared error as the loss function, and accuracy as the evaluation metric while compiling. With a batch size of 2, it fits the model to the training data for 20 epochs. The number of parameters in each layer and the overall number of parameters in the model are listed in a summary of the model architecture.\n",
        "\n"
      ]
    },
    {
      "cell_type": "code",
      "execution_count": 49,
      "metadata": {
        "colab": {
          "base_uri": "https://localhost:8080/"
        },
        "id": "QQmgj4C0k8U_",
        "outputId": "fc4686fe-1193-4f5c-bdba-28d5ff8cbc17"
      },
      "outputs": [
        {
          "output_type": "stream",
          "name": "stdout",
          "text": [
            "Epoch 1/20\n",
            "278/278 [==============================] - 14s 38ms/step - loss: 0.0150\n",
            "Epoch 2/20\n",
            "278/278 [==============================] - 11s 38ms/step - loss: 0.0036\n",
            "Epoch 3/20\n",
            "278/278 [==============================] - 9s 32ms/step - loss: 0.0029\n",
            "Epoch 4/20\n",
            "278/278 [==============================] - 13s 47ms/step - loss: 0.0026\n",
            "Epoch 5/20\n",
            "278/278 [==============================] - 11s 38ms/step - loss: 0.0025\n",
            "Epoch 6/20\n",
            "278/278 [==============================] - 11s 40ms/step - loss: 0.0023\n",
            "Epoch 7/20\n",
            "278/278 [==============================] - 11s 38ms/step - loss: 0.0021\n",
            "Epoch 8/20\n",
            "278/278 [==============================] - 9s 34ms/step - loss: 0.0020\n",
            "Epoch 9/20\n",
            "278/278 [==============================] - 11s 38ms/step - loss: 0.0019\n",
            "Epoch 10/20\n",
            "278/278 [==============================] - 11s 38ms/step - loss: 0.0019\n",
            "Epoch 11/20\n",
            "278/278 [==============================] - 10s 37ms/step - loss: 0.0021\n",
            "Epoch 12/20\n",
            "278/278 [==============================] - 9s 32ms/step - loss: 0.0019\n",
            "Epoch 13/20\n",
            "278/278 [==============================] - 11s 38ms/step - loss: 0.0018\n",
            "Epoch 14/20\n",
            "278/278 [==============================] - 10s 38ms/step - loss: 0.0017\n",
            "Epoch 15/20\n",
            "278/278 [==============================] - 11s 40ms/step - loss: 0.0017\n",
            "Epoch 16/20\n",
            "278/278 [==============================] - 9s 33ms/step - loss: 0.0016\n",
            "Epoch 17/20\n",
            "278/278 [==============================] - 10s 37ms/step - loss: 0.0017\n",
            "Epoch 18/20\n",
            "278/278 [==============================] - 11s 38ms/step - loss: 0.0016\n",
            "Epoch 19/20\n",
            "278/278 [==============================] - 11s 38ms/step - loss: 0.0016\n",
            "Epoch 20/20\n",
            "278/278 [==============================] - 9s 31ms/step - loss: 0.0015\n",
            "Model: \"sequential_3\"\n",
            "_________________________________________________________________\n",
            " Layer (type)                Output Shape              Param #   \n",
            "=================================================================\n",
            " simple_rnn (SimpleRNN)      (None, 50, 50)            2600      \n",
            "                                                                 \n",
            " dropout_4 (Dropout)         (None, 50, 50)            0         \n",
            "                                                                 \n",
            " simple_rnn_1 (SimpleRNN)    (None, 50, 50)            5050      \n",
            "                                                                 \n",
            " simple_rnn_2 (SimpleRNN)    (None, 50, 50)            5050      \n",
            "                                                                 \n",
            " simple_rnn_3 (SimpleRNN)    (None, 50)                5050      \n",
            "                                                                 \n",
            " dense_12 (Dense)            (None, 1)                 51        \n",
            "                                                                 \n",
            "=================================================================\n",
            "Total params: 17801 (69.54 KB)\n",
            "Trainable params: 17801 (69.54 KB)\n",
            "Non-trainable params: 0 (0.00 Byte)\n",
            "_________________________________________________________________\n"
          ]
        }
      ],
      "source": [
        "# initializing the RNN\n",
        "regressor = Sequential()\n",
        "\n",
        "# adding RNN layers and dropout regularization\n",
        "regressor.add(SimpleRNN(units = 50,\n",
        "\t\t\t\t\t\tactivation = \"tanh\",\n",
        "\t\t\t\t\t\treturn_sequences = True,\n",
        "\t\t\t\t\t\tinput_shape = (X_train.shape[1],1)))\n",
        "regressor.add(Dropout(0.2))\n",
        "\n",
        "regressor.add(SimpleRNN(units = 50,\n",
        "\t\t\t\t\t\tactivation = \"tanh\",\n",
        "\t\t\t\t\t\treturn_sequences = True))\n",
        "\n",
        "regressor.add(SimpleRNN(units = 50,\n",
        "\t\t\t\t\t\tactivation = \"tanh\",\n",
        "\t\t\t\t\t\treturn_sequences = True))\n",
        "\n",
        "regressor.add( SimpleRNN(units = 50))\n",
        "\n",
        "# adding the output layer\n",
        "regressor.add(Dense(units = 1,activation='sigmoid'))\n",
        "\n",
        "# compiling RNN\n",
        "regressor.compile(optimizer = SGD(learning_rate=0.01,\n",
        "\t\t\t\t\t\t\t\tmomentum=0.9,\n",
        "\t\t\t\t\t\t\t\tnesterov=True),\n",
        "\t\t\t\tloss = \"mean_squared_error\")\n",
        "\n",
        "# fitting the model\n",
        "regressor.fit(X_train, y_train, epochs = 20, batch_size = 2)\n",
        "regressor.summary()"
      ]
    },
    {
      "cell_type": "markdown",
      "metadata": {
        "id": "GDmWbBN6l8IR"
      },
      "source": [
        "**Section 3: Analysis** (10 points)"
      ]
    },
    {
      "cell_type": "code",
      "execution_count": 50,
      "metadata": {
        "id": "mwZ3q-xClEZs",
        "colab": {
          "base_uri": "https://localhost:8080/",
          "height": 599
        },
        "outputId": "5dfbc6c4-f318-4804-c09e-835fc22f6998"
      },
      "outputs": [
        {
          "output_type": "stream",
          "name": "stdout",
          "text": [
            "4/4 [==============================] - 1s 21ms/step\n"
          ]
        },
        {
          "output_type": "display_data",
          "data": {
            "text/plain": [
              "<Figure size 1200x600 with 1 Axes>"
            ],
            "image/png": "[encoded data removed]"
          },
          "metadata": {}
        }
      ],
      "source": [
        "# predictions with X_test data\n",
        "y_RNN = regressor.predict(X_test)\n",
        "\n",
        "# scaling back from 0-1 to original\n",
        "y_RNN_O = scaler.inverse_transform(y_RNN)\n",
        "\n",
        "fig, axs = plt.subplots(figsize =(12,6),sharex=True, sharey=True)\n",
        "fig.suptitle('Model Predictions')\n",
        "\n",
        "#Plot for RNN predictions\n",
        "axs.plot(train_data.index[150:], train_data.Open[150:], label = \"train_data\", color = \"b\")\n",
        "axs.plot(test_data.index, test_data.Open, label = \"test_data\", color = \"g\")\n",
        "axs.plot(test_data.index[50:], y_RNN_O, label = \"y_RNN\", color = \"brown\")\n",
        "axs.legend()\n",
        "axs.title.set_text(\"Basic RNN\")\n",
        "\n",
        "\n",
        "plt.show()"
      ]
    },
    {
      "cell_type": "markdown",
      "metadata": {
        "id": "T-9sllF3nYfz"
      },
      "source": [
        "As we can see from the plot, the basic RNN is approximately able to predict the future with significant accuracy"
      ]
    },
    {
      "cell_type": "markdown",
      "metadata": {
        "id": "9mFP6bojntkw"
      },
      "source": [
        "**Discussion:** Delve into the pros and cons of the model, commenting on potential\n",
        "overfitting, or other relevant observations"
      ]
    },
    {
      "cell_type": "markdown",
      "metadata": {
        "id": "vry5Uebtn0SI"
      },
      "source": [
        "The basic RNN model is performing pretty well on predicting the future stock movement. With just 2 year of data it is predicting the stock movement for around 6 months with pretty good accuracy. Even though it is not exactly catching the stock values accurately, it successfully catches the trend or stock movement accurately which is what we generally need."
      ]
    },
    {
      "cell_type": "markdown",
      "metadata": {
        "id": "4BUQA6Jvn0VN"
      },
      "source": [
        "**Pros of the model:**\n",
        "1. RNNs are designed to handle sequential data, making them well-suited for time series forecasting where the order of data points is crucial\n",
        "\n",
        "2. RNNs can handle variable-length input sequences, which is important in time series forecasting where the length of historical data may vary.\n",
        "\n",
        "3. RNNs have a memory element that enables them to retain information from previous time steps. This memory is especially beneficial for capturing long-term dependencies in time series data.\n",
        "\n",
        "4. RNNs can be updated in real-time as new data becomes available, making them suitable for online learning scenarios.\n",
        "\n",
        "5. RNN can capture complex patterns and relationships in the data without relying on manually engineered features\n",
        "\n",
        "**Cons of the models:**\n",
        "\n",
        "1. RNNs are prone to the vanishing gradient problem, where gradients become extremely small during backpropagation.\n",
        "\n",
        "2. Standard RNNs often struggle to capture long-term dependencies in time series data. As the gap between relevant information in distant time steps increases, the ability of the network to remember and utilize that information diminishes. This limitation can impact the accuracy of forecasts for time series with long-term dependencies.\n",
        "\n",
        "3. Training RNNs can be computationally intensive, particularly when dealing with large datasets and complex architectures.\n",
        "\n",
        "4. RNNs are sensitive to the choice of hyperparameters, such as learning rates, sequence lengths, and network architectures. Finding the right combination of hyperparameters can be a time-consuming process, and suboptimal choices may lead to poor performance.\n",
        "\n",
        "5. Standard RNNs have limited memory capacity"
      ]
    },
    {
      "cell_type": "code",
      "execution_count": 50,
      "metadata": {
        "id": "_odR6zWWmnI2"
      },
      "outputs": [],
      "source": []
    },
    {
      "cell_type": "markdown",
      "metadata": {
        "id": "-y_AcKZ5pr4c"
      },
      "source": [
        "4. LSTMs\n",
        "\n"
      ]
    },
    {
      "cell_type": "markdown",
      "metadata": {
        "id": "exKJaZ8Np3gy"
      },
      "source": [
        "**Section 1**: Introduction (5 points)"
      ]
    },
    {
      "cell_type": "markdown",
      "metadata": {
        "id": "wvkR3sHLqLWL"
      },
      "source": [
        "**Problem Statement:**: Time series forecasting of google's stock data with LSTMs"
      ]
    },
    {
      "cell_type": "markdown",
      "metadata": {
        "id": "b0yEhnvoqGuL"
      },
      "source": [
        "**Data Description:** :\n",
        "We are using same datset as in previous code.\n",
        "This code uses the yf.download() method of the yfinance library to download historical stock data for Google from Yahoo Finance. Using the dt.datetime() method of the datetime module, the start and end dates of the time period for which the data has been obtained are given."
      ]
    },
    {
      "cell_type": "markdown",
      "metadata": {
        "id": "L_AZ7R6JqToP"
      },
      "source": [
        "We are referring for the code to: https://www.geeksforgeeks.org/time-series-forecasting-using-recurrent-neural-networks-rnn-in-tensorflow/"
      ]
    },
    {
      "cell_type": "markdown",
      "metadata": {
        "id": "blkeTJZQqd1_"
      },
      "source": [
        "**Section 2**: **Implementation - Code and Notes**"
      ]
    },
    {
      "cell_type": "markdown",
      "metadata": {
        "id": "ZIdBtF7lqe6D"
      },
      "source": [
        "We will not repeat the data cleaning and transforming process, we will use the cleaned data from previous example"
      ]
    },
    {
      "cell_type": "markdown",
      "metadata": {
        "id": "hWcodHoBqsK6"
      },
      "source": [
        "This code creates a LSTM Model with three layers and a dense output layer. It employs the optimizer as Adam, mean squared error as the loss function, and accuracy as the evaluation metric while compiling. With a batch size of 1, it fits the model to the training data for 10 epochs. The number of parameters in each layer and the overall number of parameters in the model are listed in a summary of the model architecture."
      ]
    },
    {
      "cell_type": "code",
      "execution_count": 53,
      "metadata": {
        "id": "AmBW4oBnpsM-",
        "colab": {
          "base_uri": "https://localhost:8080/"
        },
        "outputId": "092c08e7-9f93-4f67-a6cf-f2c98bf14ea2"
      },
      "outputs": [
        {
          "metadata": {
            "tags": null
          },
          "name": "stdout",
          "output_type": "stream",
          "text": [
            "Epoch 1/12\n",
            "555/555 [==============================] - 17s 24ms/step - loss: 0.0043 - accuracy: 0.0018\n",
            "Epoch 2/12\n",
            "555/555 [==============================] - 14s 25ms/step - loss: 0.0028 - accuracy: 0.0018\n",
            "Epoch 3/12\n",
            "555/555 [==============================] - 13s 24ms/step - loss: 0.0019 - accuracy: 0.0018\n",
            "Epoch 4/12\n",
            "555/555 [==============================] - 14s 24ms/step - loss: 0.0017 - accuracy: 0.0018\n",
            "Epoch 5/12\n",
            "555/555 [==============================] - 15s 27ms/step - loss: 0.0013 - accuracy: 0.0018\n",
            "Epoch 6/12\n",
            "555/555 [==============================] - 15s 26ms/step - loss: 0.0012 - accuracy: 0.0018\n",
            "Epoch 7/12\n",
            "555/555 [==============================] - 14s 25ms/step - loss: 0.0012 - accuracy: 0.0018\n",
            "Epoch 8/12\n",
            "555/555 [==============================] - 14s 24ms/step - loss: 0.0011 - accuracy: 0.0018\n",
            "Epoch 9/12\n",
            "555/555 [==============================] - 14s 24ms/step - loss: 0.0011 - accuracy: 0.0018\n",
            "Epoch 10/12\n",
            "555/555 [==============================] - 13s 24ms/step - loss: 9.8803e-04 - accuracy: 0.0018\n",
            "Epoch 11/12\n",
            "555/555 [==============================] - 13s 23ms/step - loss: 0.0010 - accuracy: 0.0018\n",
            "Epoch 12/12\n",
            "555/555 [==============================] - 13s 23ms/step - loss: 9.3695e-04 - accuracy: 0.0018\n",
            "Model: \"sequential_5\"\n",
            "_________________________________________________________________\n",
            " Layer (type)                Output Shape              Param #   \n",
            "=================================================================\n",
            " lstm_2 (LSTM)               (None, 50, 50)            10400     \n",
            "                                                                 \n",
            " lstm_3 (LSTM)               (None, 50)                20200     \n",
            "                                                                 \n",
            " dense_15 (Dense)            (None, 25)                1275      \n",
            "                                                                 \n",
            " dense_16 (Dense)            (None, 1)                 26        \n",
            "                                                                 \n",
            "=================================================================\n",
            "Total params: 31901 (124.61 KB)\n",
            "Trainable params: 31901 (124.61 KB)\n",
            "Non-trainable params: 0 (0.00 Byte)\n",
            "_________________________________________________________________\n"
          ]
        }
      ],
      "source": [
        "#Initialising the model\n",
        "regressorLSTM = Sequential()\n",
        "\n",
        "#Adding LSTM layers\n",
        "regressorLSTM.add(LSTM(50,\n",
        "\t\t\t\t\treturn_sequences = True,\n",
        "\t\t\t\t\tinput_shape = (X_train.shape[1],1)))\n",
        "regressorLSTM.add(LSTM(50,\n",
        "\t\t\t\t\treturn_sequences = False))\n",
        "regressorLSTM.add(Dense(25))\n",
        "\n",
        "#Adding the output layer\n",
        "regressorLSTM.add(Dense(1))\n",
        "\n",
        "#Compiling the model\n",
        "regressorLSTM.compile(optimizer = 'adam',\n",
        "\t\t\t\t\tloss = 'mean_squared_error',\n",
        "\t\t\t\t\tmetrics = [\"accuracy\"])\n",
        "\n",
        "#Fitting the model\n",
        "regressorLSTM.fit(X_train,\n",
        "\t\t\t\ty_train,\n",
        "\t\t\t\tbatch_size = 1,\n",
        "\t\t\t\tepochs = 12)\n",
        "regressorLSTM.summary()\n"
      ]
    },
    {
      "cell_type": "markdown",
      "metadata": {
        "id": "1Sp4Fe_IrUMe"
      },
      "source": [
        "**Section 3: Analysis** (10 points)"
      ]
    },
    {
      "cell_type": "code",
      "execution_count": 54,
      "metadata": {
        "id": "hHv4JeQ9qvQ2",
        "colab": {
          "base_uri": "https://localhost:8080/",
          "height": 599
        },
        "outputId": "7bf1c91d-493c-4459-8b77-1d4c9f6c17fe"
      },
      "outputs": [
        {
          "metadata": {
            "tags": null
          },
          "name": "stdout",
          "output_type": "stream",
          "text": [
            "4/4 [==============================] - 1s 11ms/step\n"
          ]
        },
        {
          "data": {
            "image/png": "[encoded data removed]",
            "text/plain": [
              "<Figure size 1200x600 with 1 Axes>"
            ]
          },
          "metadata": {},
          "output_type": "display_data"
        }
      ],
      "source": [
        "# predictions with X_test data\n",
        "y_LSTM = regressorLSTM.predict(X_test)\n",
        "y_LSTM_O = scaler.inverse_transform(y_LSTM)\n",
        "\n",
        "fig, axs = plt.subplots(figsize =(12,6),sharex=True, sharey=True)\n",
        "fig.suptitle('Model Predictions')\n",
        "\n",
        "#Plot for LSTM predictions\n",
        "axs.plot(train_data.index[150:], train_data.Open[150:], label = \"train_data\", color = \"b\")\n",
        "axs.plot(test_data.index, test_data.Open, label = \"test_data\", color = \"g\")\n",
        "axs.plot(test_data.index[50:], y_LSTM_O, label = \"y_LSTM\", color = \"orange\")\n",
        "axs.legend()\n",
        "axs.title.set_text(\"LSTM\")\n"
      ]
    },
    {
      "cell_type": "markdown",
      "source": [
        "As we can see in the figure, LSTM not only captures the stock movement, but it also captures the stock prices much more accurately than the previous RNN model"
      ],
      "metadata": {
        "id": "K0UiXhQisQCr"
      }
    },
    {
      "cell_type": "markdown",
      "source": [
        "**Discussion:** Delve into the pros and cons of the model, commenting on potential\n",
        "overfitting, or other relevant observations"
      ],
      "metadata": {
        "id": "2ncuXx6-sda-"
      }
    },
    {
      "cell_type": "markdown",
      "source": [
        "This model is generalizing well. But with improved accuracy there is always the cost of more computation. Though LSTMs are performing much better than the RNN with only 12 epochs(compared to 20 for RNN) and are definitely the better choice to model the time series."
      ],
      "metadata": {
        "id": "ikWIluxRsnoB"
      }
    },
    {
      "cell_type": "markdown",
      "source": [
        "**Pros of the model:**\n",
        "1. LSTMs are specifically designed to address the vanishing gradient problem associated with traditional RNNs, making them more capable of capturing and learning long-term dependencies in time series data.\n",
        "\n",
        "2. LSTMs introduce a memory cell state that allows the network to retain and carry information across multiple time steps. This long-term memory capability helps LSTMs capture important patterns and dependencies in time series data over extended periods, making them well-suited for forecasting tasks that involve complex and distant relationships.\n",
        "\n",
        "3. LSTMs employ gating mechanisms, such as the input gate, forget gate, and output gate, which provide the network with enhanced control over the flow of information. These gates regulate the information entering and leaving the memory cell, allowing the LSTM to selectively update and utilize the memory, making it more adaptable to different patterns in the time series.\n",
        "\n",
        "4. LSTMs can be trained more efficiently than traditional RNNs because of their parallelization capabilities.\n",
        "\n",
        "5. LSTMs are less sensitive to the length of input sequences compared to standard RNNs.\n",
        "\n",
        "**Cons of the models:**\n",
        "\n",
        "1. LSTMs are computationally more complex than some other neural network architectures. The additional mechanisms such as gates and memory cells increase the number of parameters in the model, leading to longer training times and higher computational requirements. This complexity can be a limiting factor in scenarios where computational resources are constrained.\n",
        "\n",
        "2. LSTMs are known for their black-box nature, making it challenging to interpret the internal workings of the model.\n",
        "\n",
        "3. LSTMs have a large number of parameters, which can lead to overfitting when trained on small datasets.\n",
        "\n",
        "4. LSTMs, like other neural networks, are sensitive to the choice of hyperparameters, such as learning rates, layer sizes, and dropout rates. Finding the optimal set of hyperparameters can be a time-consuming process, and suboptimal choices may lead to inferior performance.\n",
        "\n",
        "5. While LSTMs excel at capturing long-term dependencies, they may not always provide a significant performance improvement over simpler models like autoregressive models or moving averages for tasks involving short-term dependencies. In situations where the time series patterns are relatively simple or short-lived, the additional complexity of LSTMs may not be justified."
      ],
      "metadata": {
        "id": "IH7X9QaLsmcg"
      }
    },
    {
      "cell_type": "code",
      "source": [],
      "metadata": {
        "id": "MSZQDpH3sMV1"
      },
      "execution_count": 54,
      "outputs": []
    }
  ],
  "metadata": {
    "colab": {
      "provenance": []
    },
    "kernelspec": {
      "display_name": "Python 3",
      "name": "python3"
    },
    "language_info": {
      "name": "python"
    }
  },
  "nbformat": 4,
  "nbformat_minor": 0
}